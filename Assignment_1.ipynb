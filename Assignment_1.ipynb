{
  "nbformat": 4,
  "nbformat_minor": 0,
  "metadata": {
    "colab": {
      "name": "Assignment 1.ipynb",
      "provenance": [],
      "collapsed_sections": [],
      "authorship_tag": "ABX9TyNioanbxXyE6Og9269djq/r",
      "include_colab_link": true
    },
    "kernelspec": {
      "name": "python3",
      "display_name": "Python 3"
    }
  },
  "cells": [
    {
      "cell_type": "markdown",
      "metadata": {
        "id": "view-in-github",
        "colab_type": "text"
      },
      "source": [
        "<a href=\"https://colab.research.google.com/github/ReshmiMaulik/intermediate-python-course/blob/master/Assignment_1.ipynb\" target=\"_parent\"><img src=\"https://colab.research.google.com/assets/colab-badge.svg\" alt=\"Open In Colab\"/></a>"
      ]
    },
    {
      "cell_type": "code",
      "metadata": {
        "id": "gHf2IIdvcWvb",
        "colab_type": "code",
        "colab": {
          "base_uri": "https://localhost:8080/",
          "height": 191
        },
        "outputId": "53b9c5a9-0d79-478c-924c-925795d2455e"
      },
      "source": [
        "# To calculate simple interest and amount\n",
        "p= int(input(\"Enter the principal amount\\n\"))\n",
        "r= float(input(\"Enter the rate of interest\\n\"))\n",
        "t= int(input(\"Enter the time period\\n\"))\n",
        "SI= float((p* r* t))/100\n",
        "a= p+SI\n",
        "print(\"Simple interest\", SI)\n",
        "print(\"Amount\", a)\n",
        "print(\"\\n The simple interest is {} and Amount is {}\".format(SI,a))"
      ],
      "execution_count": null,
      "outputs": [
        {
          "output_type": "stream",
          "text": [
            "Enter the principal amount\n",
            "1000\n",
            "Enter the rate of interest\n",
            "2\n",
            "Enter the time period\n",
            "6\n",
            "Simple interest 120.0\n",
            "Amount 1120.0\n",
            "\n",
            " The simple interest is 120.0 and Amount is 1120.0\n"
          ],
          "name": "stdout"
        }
      ]
    },
    {
      "cell_type": "code",
      "metadata": {
        "id": "aV4qeGDAjkVV",
        "colab_type": "code",
        "colab": {
          "base_uri": "https://localhost:8080/",
          "height": 156
        },
        "outputId": "856bbd9c-aa1d-4a7d-c308-59b56e07aba3"
      },
      "source": [
        "# Program like C\n",
        "am= int(input(\"Enter a 3 digit number\\n\"))\n",
        "H=int(am/100)\n",
        "print(H)\n",
        "T=int((am/10)-H *10)\n",
        "print(T)\n",
        "O= am-(int((am/10))*10)\n",
        "print(O)\n",
        "Arms= (H**3)+(T**3)+(O**3)\n",
        "print(Arms)\n",
        "if am==Arms:\n",
        "  print(\"the number is armstrong number\\n\",am)\n",
        "else:\n",
        "    print(\"the number is not a armstrong number\\n\",am)"
      ],
      "execution_count": null,
      "outputs": [
        {
          "output_type": "stream",
          "text": [
            "Enter a 3 digit number\n",
            "371\n",
            "3\n",
            "7\n",
            "1\n",
            "371\n",
            "the number is armstrong number\n",
            " 371\n"
          ],
          "name": "stdout"
        }
      ]
    },
    {
      "cell_type": "code",
      "metadata": {
        "id": "Mc4TOTteG4t6",
        "colab_type": "code",
        "colab": {
          "base_uri": "https://localhost:8080/",
          "height": 69
        },
        "outputId": "33cb6de8-05ae-4ba9-986c-5b13e2f833c5"
      },
      "source": [
        "# To check for Armstrong number\n",
        "n=input(\"Enter a number\\n\")\n",
        "a=int(len(n))\n",
        "s=0\n",
        "for i in n:\n",
        "  i= int(i)\n",
        "  s=s+i**a\n",
        "if s==int(n):\n",
        "  print(\"Armstrong Number\")\n",
        "else:\n",
        "  print(\"Not an armstrong number\")    "
      ],
      "execution_count": null,
      "outputs": [
        {
          "output_type": "stream",
          "text": [
            "Enter a number\n",
            "1634\n",
            "Armstrong Number\n"
          ],
          "name": "stdout"
        }
      ]
    },
    {
      "cell_type": "code",
      "metadata": {
        "id": "zYN1mNT9dj5j",
        "colab_type": "code",
        "colab": {
          "base_uri": "https://localhost:8080/",
          "height": 225
        },
        "outputId": "ac94441d-a06b-4084-85ef-44e544429338"
      },
      "source": [
        "# To print Fibonacci series\n",
        "F1=0\n",
        "F2=1\n",
        "F3=1\n",
        "n= int(input(\"\\n enter the value for n :\"))\n",
        "for i in range(n):\n",
        "    F3 = F1 +F2  \n",
        "    print(F3)\n",
        "    F1=F2\n",
        "    F2=F3\n",
        "  \n",
        "  \n",
        " \n"
      ],
      "execution_count": null,
      "outputs": [
        {
          "output_type": "stream",
          "text": [
            "\n",
            " enter the value for n :10\n",
            "1\n",
            "2\n",
            "3\n",
            "5\n",
            "8\n",
            "13\n",
            "21\n",
            "34\n",
            "55\n",
            "89\n"
          ],
          "name": "stdout"
        }
      ]
    },
    {
      "cell_type": "code",
      "metadata": {
        "id": "iedw7gHre-Ar",
        "colab_type": "code",
        "colab": {
          "base_uri": "https://localhost:8080/",
          "height": 139
        },
        "outputId": "ec367bbf-4313-4152-9d30-05b4c8456326"
      },
      "source": [
        "# Match usename and password in dictionary\n",
        "a={\"Mahesh\":\"Panda\",\n",
        "   \"Ganesh\":\"Shaw\"}\n",
        "type(a)\n",
        "print(\"The type\",type(a))\n",
        "a[\"Ganesh\"]\n",
        "a[\"Rakesh\"]=\"Ray\"\n",
        "a\n",
        "a[\"Mahesh\"]=\"Pande\"\n",
        "a\n",
        "print(\"keys are\",a.keys())\n",
        "\n",
        "a.pop(\"Rakesh\") # to remove last entered key and value\n",
        "a\n",
        "a.values()\n",
        "for i in a:\n",
        "  print(i,a[i])\n",
        "N= input(\"Enter Name\")\n",
        "P= input(\"Enter Password\")\n",
        "for i in a:\n",
        "  if (N==i and P==a[i]):\n",
        "    print(\"Name found\")\n",
        "    break\n",
        "  else:\n",
        "   print(\"Invalid Credentials!\") \n",
        "   break\n",
        "  \n",
        "#a[\"Name\"].append(N)\n",
        "#a[\"Password\"].append(P)"
      ],
      "execution_count": null,
      "outputs": [
        {
          "output_type": "stream",
          "text": [
            "The type <class 'dict'>\n",
            "keys are dict_keys(['Mahesh', 'Ganesh', 'Rakesh'])\n",
            "Mahesh Pande\n",
            "Ganesh Shaw\n",
            "Enter Nameutdytf\n",
            "Enter Password3243\n",
            "Invalid Credentials!\n"
          ],
          "name": "stdout"
        }
      ]
    },
    {
      "cell_type": "code",
      "metadata": {
        "id": "lrA3FMYmaH5m",
        "colab_type": "code",
        "colab": {
          "base_uri": "https://localhost:8080/",
          "height": 69
        },
        "outputId": "f8fc6541-6e9b-4b8f-f5db-7e2d19b81845"
      },
      "source": [
        "# To determine whether a number is prime or not\n",
        "n= int(input(\" Get a number\\n:\"))\n",
        "for i in range(2,int(n/2)):\n",
        "      if (n%i==0):\n",
        "        print(\"It is not a prime number\")\n",
        "        break\n",
        "      else:\n",
        "        print(\"It is a prime number\")  \n",
        "        break"
      ],
      "execution_count": null,
      "outputs": [
        {
          "output_type": "stream",
          "text": [
            " Get a number\n",
            ":17\n",
            "It is a prime number\n"
          ],
          "name": "stdout"
        }
      ]
    },
    {
      "cell_type": "code",
      "metadata": {
        "id": "KwD-aUUNVvV_",
        "colab_type": "code",
        "colab": {
          "base_uri": "https://localhost:8080/",
          "height": 35
        },
        "outputId": "c8a8f698-84a5-4ee5-ba7b-2fbad6fb00de"
      },
      "source": [
        "#Define a function\n",
        "def ad(a,b):\n",
        "  print(a+b)\n",
        "\n",
        "ad(5,4)\n"
      ],
      "execution_count": null,
      "outputs": [
        {
          "output_type": "stream",
          "text": [
            "9\n"
          ],
          "name": "stdout"
        }
      ]
    },
    {
      "cell_type": "code",
      "metadata": {
        "id": "xd1jyp3G9aMz",
        "colab_type": "code",
        "colab": {
          "base_uri": "https://localhost:8080/",
          "height": 35
        },
        "outputId": "14cbff14-60f6-44b0-d27b-6a454e86d608"
      },
      "source": [
        "# assigning a value using return statement\n",
        "def sb(a,b): \n",
        "  return b-a\n",
        "c= sb(3,7)\n",
        "print(\"The value of subtraction is\",c)"
      ],
      "execution_count": null,
      "outputs": [
        {
          "output_type": "stream",
          "text": [
            "The value of subtraction is 4\n"
          ],
          "name": "stdout"
        }
      ]
    },
    {
      "cell_type": "code",
      "metadata": {
        "id": "MIyZv0PIO66A",
        "colab_type": "code",
        "colab": {
          "base_uri": "https://localhost:8080/",
          "height": 35
        },
        "outputId": "36735bd2-432a-4709-c3ed-b3bea9bf0342"
      },
      "source": [
        "# calling a function with parameters\n",
        "def details(name,age,address):\n",
        "  print(\"My name is\",name,\"age is\",age,\"address is\",address)\n",
        "\n",
        "details(age=45,name=\"Reshmi\",address=\"Khardah\")"
      ],
      "execution_count": null,
      "outputs": [
        {
          "output_type": "stream",
          "text": [
            "My name is Reshmi age is 45 address is Khardah\n"
          ],
          "name": "stdout"
        }
      ]
    },
    {
      "cell_type": "code",
      "metadata": {
        "id": "128xj-yjQiMM",
        "colab_type": "code",
        "colab": {
          "base_uri": "https://localhost:8080/",
          "height": 35
        },
        "outputId": "30ceafb2-9132-458c-bfa4-3e365363b64f"
      },
      "source": [
        "#Find factorial of a number\n",
        "def fact(n):\n",
        "  if n==0:\n",
        "    return 1\n",
        "  else:\n",
        "    return n*fact(n-1)\n",
        "\n",
        "fact(5)"
      ],
      "execution_count": null,
      "outputs": [
        {
          "output_type": "execute_result",
          "data": {
            "text/plain": [
              "120"
            ]
          },
          "metadata": {
            "tags": []
          },
          "execution_count": 18
        }
      ]
    },
    {
      "cell_type": "code",
      "metadata": {
        "id": "EOPNGlpFS20z",
        "colab_type": "code",
        "colab": {
          "base_uri": "https://localhost:8080/",
          "height": 52
        },
        "outputId": "db308c71-38ae-4f22-ec22-e252ededc808"
      },
      "source": [
        "# BMI\n",
        "height=1.73\n",
        "weight=78\n",
        "BMI=weight/(height **2) \n",
        "print(\" BMI type is\",type(BMI))\n",
        "print(\"BMI\",BMI)"
      ],
      "execution_count": null,
      "outputs": [
        {
          "output_type": "stream",
          "text": [
            " BMI type is <class 'float'>\n",
            "BMI 26.061679307694877\n"
          ],
          "name": "stdout"
        }
      ]
    },
    {
      "cell_type": "code",
      "metadata": {
        "id": "5E3Fud7ShFTw",
        "colab_type": "code",
        "colab": {
          "base_uri": "https://localhost:8080/",
          "height": 35
        },
        "outputId": "78ccb7bf-dceb-446e-ed61-98fdf1036f5c"
      },
      "source": [
        "z= True\n",
        "type(z)"
      ],
      "execution_count": null,
      "outputs": [
        {
          "output_type": "execute_result",
          "data": {
            "text/plain": [
              "bool"
            ]
          },
          "metadata": {
            "tags": []
          },
          "execution_count": 23
        }
      ]
    },
    {
      "cell_type": "code",
      "metadata": {
        "id": "iU4-5G4Mh3Bp",
        "colab_type": "code",
        "colab": {
          "base_uri": "https://localhost:8080/",
          "height": 35
        },
        "outputId": "42119aa7-e5b4-4689-b8e5-1b72a8783c74"
      },
      "source": [
        "'ab'+'cd'"
      ],
      "execution_count": null,
      "outputs": [
        {
          "output_type": "execute_result",
          "data": {
            "application/vnd.google.colaboratory.intrinsic+json": {
              "type": "string"
            },
            "text/plain": [
              "'abcd'"
            ]
          },
          "metadata": {
            "tags": []
          },
          "execution_count": 24
        }
      ]
    },
    {
      "cell_type": "code",
      "metadata": {
        "id": "UyygtVIEXEm7",
        "colab_type": "code",
        "colab": {
          "base_uri": "https://localhost:8080/",
          "height": 35
        },
        "outputId": "2bf04797-fad8-4fa3-b422-7b7730b05a54"
      },
      "source": [
        "mylist=[20,30,40,50,60,70] #Creation of list\n",
        "mylist[0:3]\n"
      ],
      "execution_count": null,
      "outputs": [
        {
          "output_type": "execute_result",
          "data": {
            "text/plain": [
              "[20, 30, 40]"
            ]
          },
          "metadata": {
            "tags": []
          },
          "execution_count": 4
        }
      ]
    },
    {
      "cell_type": "code",
      "metadata": {
        "id": "-zIPkf8YiI0s",
        "colab_type": "code",
        "colab": {}
      },
      "source": [
        ""
      ],
      "execution_count": null,
      "outputs": []
    }
  ]
}